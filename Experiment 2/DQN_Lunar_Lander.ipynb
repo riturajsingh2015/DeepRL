{
 "cells": [
  {
   "cell_type": "code",
   "execution_count": 1,
   "metadata": {},
   "outputs": [],
   "source": [
    "import sys\n",
    "sys.path.append('..')\n",
    "  \n",
    "# importing\n",
    "from agents.DQN_Agent import DQN_Agent\n",
    "from helpers.plot_util import *"
   ]
  },
  {
   "cell_type": "code",
   "execution_count": 2,
   "metadata": {},
   "outputs": [],
   "source": [
    "agent= DQN_Agent(\n",
    "                 env_name='LunarLander-v2',\n",
    "                 gamma=0.99,\n",
    "                 epsilon=1.0,\n",
    "                 layer1_size=128, \n",
    "                 layer2_size=64,    \n",
    "                 alpha=0.001, \n",
    "                 C=1000000, \n",
    "                 B=64,\n",
    "                 epsilon_dec=0.0001,\n",
    "                 epsilon_end=0.01,\n",
    "                 reproduce_seed=None#42\n",
    "                 )"
   ]
  },
  {
   "cell_type": "code",
   "execution_count": null,
   "metadata": {},
   "outputs": [
    {
     "name": "stdout",
     "output_type": "stream",
     "text": [
      "Ep: 168 ,  Ep_Steps: 1000 ,Epsilon: 0.01, Ep_Reward : -19.15 , Average_Reward : -97.5658"
     ]
    }
   ],
   "source": [
    "agent.train_multiple_episodes(num_episodes=500)    ## 500 was good hann tha toh acha kya kahte ho aap\n",
    "model,book_keeping=agent.get_trained_model_info()  \n",
    "# plot Learning curve\n",
    "DQN_learning_plot(book_keeping)"
   ]
  },
  {
   "cell_type": "code",
   "execution_count": 4,
   "metadata": {},
   "outputs": [
    {
     "name": "stdout",
     "output_type": "stream",
     "text": [
      "pyvirtualdisplay successfully imported\n",
      "Tests # 42 , Rewards 267.84651333923654 , Steps 343\n",
      "Tests # 900 , Rewards 259.0888399266593 , Steps 343\n",
      "Tests # 930 , Rewards 244.7862590316611 , Steps 430\n",
      "Tests # 180 , Rewards 199.16680588856474 , Steps 473\n",
      "Tests # 660 , Rewards 249.84806997850526 , Steps 369\n",
      "Tests # 240 , Rewards 240.41266507159557 , Steps 312\n",
      "Tests # 960 , Rewards 294.41688274512694 , Steps 320\n",
      "Tests # 450 , Rewards 265.0070559148898 , Steps 415\n",
      "Tests # 30 , Rewards 259.38615071310164 , Steps 283\n",
      "Tests # 90 , Rewards 232.19409203519177 , Steps 294\n",
      "Tests # 150 , Rewards 280.08656978640795 , Steps 373\n",
      "Tests # 210 , Rewards 237.64191346609314 , Steps 330\n",
      "Tests # 330 , Rewards 256.2180247877878 , Steps 402\n",
      "Tests # 420 , Rewards 217.2353244867172 , Steps 293\n",
      "Tests # 510 , Rewards 261.44543061173033 , Steps 364\n",
      "Tests # 75 , Rewards 289.11279075164435 , Steps 358\n"
     ]
    },
    {
     "data": {
      "image/png": "[encoded data removed]",
      "text/plain": [
       "<Figure size 864x360 with 1 Axes>"
      ]
     },
     "metadata": {
      "needs_background": "light"
     },
     "output_type": "display_data"
    }
   ],
   "source": [
    "if agent.trained:\n",
    "    test_cases_data,image_paths =agent.run_test_instances(case_list=[42,900,930,180,660,240,960,450,30,90,150,210,330,420,510,75], model_=model)\n",
    "    # Plot Test cases data\n",
    "    plot_test_cases(test_cases_data)"
   ]
  },
  {
   "cell_type": "code",
   "execution_count": 5,
   "metadata": {},
   "outputs": [
    {
     "data": {
      "application/vnd.jupyter.widget-view+json": {
       "model_id": "7706242f7d6d42b0ade0579b1b6d66ce",
       "version_major": 2,
       "version_minor": 0
      },
      "text/plain": [
       "GridspecLayout(children=(Image(value=b'GIF89aX\\x02\\x90\\x01\\x83\\x00\\x00\\x00\\x00\\x00\\xcc\\xcc\\x0033ff3f3fffff33\\x…"
      ]
     },
     "metadata": {},
     "output_type": "display_data"
    }
   ],
   "source": [
    "import IPython.display as display\n",
    "import ipywidgets as widgets\n",
    "from ipywidgets import GridspecLayout\n",
    "\n",
    "rows=8\n",
    "cols=4\n",
    "grid = GridspecLayout(rows,cols)\n",
    "index_of_img=0\n",
    "for i in range(0,rows,2):\n",
    "    for j in range(cols):\n",
    "        \n",
    "        path_of_img=image_paths[index_of_img]\n",
    "        img=open(path_of_img,'rb').read()\n",
    "        \n",
    "        grid[i, j] = widgets.Image(value=img, format='gif', width=220, height=510)\n",
    "        grid[i+1, j] = widgets.HTML(value=path_of_img[path_of_img.index('IMAGES/')+7 :])\n",
    "        index_of_img+=1\n",
    "        \n",
    "        \n",
    "\n",
    "grid"
   ]
  },
  {
   "cell_type": "code",
   "execution_count": null,
   "metadata": {},
   "outputs": [],
   "source": []
  }
 ],
 "metadata": {
  "kernelspec": {
   "display_name": "Python 3",
   "language": "python",
   "name": "python3"
  },
  "language_info": {
   "codemirror_mode": {
    "name": "ipython",
    "version": 3
   },
   "file_extension": ".py",
   "mimetype": "text/x-python",
   "name": "python",
   "nbconvert_exporter": "python",
   "pygments_lexer": "ipython3",
   "version": "3.8.6"
  }
 },
 "nbformat": 4,
 "nbformat_minor": 4
}
